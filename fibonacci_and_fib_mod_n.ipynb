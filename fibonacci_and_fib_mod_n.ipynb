{
 "cells": [
  {
   "cell_type": "code",
   "execution_count": 210,
   "metadata": {},
   "outputs": [],
   "source": [
    "def fib(how_many):\n",
    "    \"\"\"\n",
    "    A basic Fibonacci number calculator\n",
    "    \"\"\"\n",
    "    my_list = [0, 1]\n",
    "    for i in range(1, how_many):\n",
    "        print(my_list[0])\n",
    "        new_val = sum(my_list)\n",
    "        my_list[0] = my_list[1]\n",
    "        my_list[1] = new_val"
   ]
  },
  {
   "cell_type": "markdown",
   "metadata": {},
   "source": [
    "## Remainders After Division or Fibonacci mod n\n",
    "\n",
    "Stumbled on this wonderful [Fibonacci Mystery - Numberphile](https://www.youtube.com/watch?v=Nu-lW-Ifyec) video after having watched the Numberphile video for Casting Out Nines. Got sucked into the discussion of `Fib mod n` (remainders after dividing Fibonacci numbers by some number), and their repeating patterns / cycles. \n",
    "\n",
    "This page discusses this with more examples and expected cycles:  \n",
    "http://www.maths.surrey.ac.uk/hosted-sites/R.Knott/Fibonacci/fibmaths.html#section6\n",
    "\n",
    "> 0, 1, 1, 2, 3, 5, 8, 3, 1, 4, 5, .... A003893\n",
    "> which repeats after 60 digits.\n",
    "> These are the remainders of the Fibonacci numbers when we divide by 10, or, to use the mathematical term, Fibonacci numbers modulo 10.\n",
    "> x modulo n means the remainder when we divide the whole number x by n and it is also written as x mod n for short\n",
    "\n",
    "No matter what number we divide a Fibonacci number by, the remainder numbers (modulo results collected together) will always repeat:\n",
    "\n",
    "> We will always get a cycle that repeats!\n",
    "\n",
    "> The cycle lengths are also called the Pisano periods\n",
    "\n",
    "> we have the following cycle lengths for the Fibonacci Numbers\n",
    "\n",
    "> mod, cycle length:  \n",
    "> 2, 3  \n",
    "> 3, 8  \n",
    "> 4, 6  \n",
    "> 5, 20  \n",
    "> 6, 24  \n",
    "> 7, 16  \n",
    "> 8, 12  \n",
    "> 9, 24  \n",
    "> 10, 60  \n",
    "> 11, 10  \n",
    "\n"
   ]
  },
  {
   "cell_type": "code",
   "execution_count": 211,
   "metadata": {},
   "outputs": [],
   "source": [
    "def fib_modulo(how_many, modulo_div):\n",
    "    \"\"\"\n",
    "    A Fibonacci calculator that simultaneously calculates the remainder after division (modulo), \n",
    "    and calculcates the Pisano period (cycle length) of those modulo results. \n",
    "    how_many : int\n",
    "        How many Fibonacci numbers top calculate\n",
    "    modulo_div : int\n",
    "        What do divide each Fibonacci number by\n",
    "    \"\"\"\n",
    "    my_list = [0, 1]\n",
    "    modulo_results = []\n",
    "    pisano_period = 0\n",
    "    for i in range(1, how_many):\n",
    "        curr_val = my_list[0]\n",
    "        modulo_div_result = curr_val % modulo_div\n",
    "        modulo_results.append(modulo_div_result)\n",
    "        out_string = f\"fib num: {curr_val} --> {curr_val} mod {modulo_div} is {modulo_div_result}\"\n",
    "        print(out_string)\n",
    "        new_val = sum(my_list)\n",
    "        my_list[0] = my_list[1]\n",
    "        my_list[1] = new_val\n",
    "    print(f\"modulo results: {modulo_results}\")\n",
    "    mod_results_queue = [0, 0]\n",
    "    for i, v in enumerate(modulo_results):#[2:]):\n",
    "        #print(f\"index: {i}, value: {v}\")\n",
    "        mod_results_queue[0] = mod_results_queue[1]\n",
    "        mod_results_queue[1] = v\n",
    "        #print(mod_results_queue)\n",
    "        if mod_results_queue[0] == 0 and mod_results_queue[1] == 1 and i > 2:\n",
    "            pisano_period = i - 1\n",
    "            break\n",
    "    print(f\"pisano period: {pisano_period}\")"
   ]
  },
  {
   "cell_type": "code",
   "execution_count": 212,
   "metadata": {},
   "outputs": [
    {
     "name": "stdout",
     "output_type": "stream",
     "text": [
      "fib num: 0 --> 0 mod 5 is 0\n",
      "fib num: 1 --> 1 mod 5 is 1\n",
      "fib num: 1 --> 1 mod 5 is 1\n",
      "fib num: 2 --> 2 mod 5 is 2\n",
      "fib num: 3 --> 3 mod 5 is 3\n",
      "fib num: 5 --> 5 mod 5 is 0\n",
      "fib num: 8 --> 8 mod 5 is 3\n",
      "fib num: 13 --> 13 mod 5 is 3\n",
      "fib num: 21 --> 21 mod 5 is 1\n",
      "fib num: 34 --> 34 mod 5 is 4\n",
      "fib num: 55 --> 55 mod 5 is 0\n",
      "fib num: 89 --> 89 mod 5 is 4\n",
      "fib num: 144 --> 144 mod 5 is 4\n",
      "fib num: 233 --> 233 mod 5 is 3\n",
      "fib num: 377 --> 377 mod 5 is 2\n",
      "fib num: 610 --> 610 mod 5 is 0\n",
      "fib num: 987 --> 987 mod 5 is 2\n",
      "fib num: 1597 --> 1597 mod 5 is 2\n",
      "fib num: 2584 --> 2584 mod 5 is 4\n",
      "fib num: 4181 --> 4181 mod 5 is 1\n",
      "fib num: 6765 --> 6765 mod 5 is 0\n",
      "fib num: 10946 --> 10946 mod 5 is 1\n",
      "fib num: 17711 --> 17711 mod 5 is 1\n",
      "fib num: 28657 --> 28657 mod 5 is 2\n",
      "fib num: 46368 --> 46368 mod 5 is 3\n",
      "fib num: 75025 --> 75025 mod 5 is 0\n",
      "fib num: 121393 --> 121393 mod 5 is 3\n",
      "fib num: 196418 --> 196418 mod 5 is 3\n",
      "fib num: 317811 --> 317811 mod 5 is 1\n",
      "fib num: 514229 --> 514229 mod 5 is 4\n",
      "fib num: 832040 --> 832040 mod 5 is 0\n",
      "fib num: 1346269 --> 1346269 mod 5 is 4\n",
      "fib num: 2178309 --> 2178309 mod 5 is 4\n",
      "fib num: 3524578 --> 3524578 mod 5 is 3\n",
      "modulo results: [0, 1, 1, 2, 3, 0, 3, 3, 1, 4, 0, 4, 4, 3, 2, 0, 2, 2, 4, 1, 0, 1, 1, 2, 3, 0, 3, 3, 1, 4, 0, 4, 4, 3]\n",
      "pisano period: 20\n"
     ]
    }
   ],
   "source": [
    "fib_modulo(35, 5)"
   ]
  },
  {
   "cell_type": "code",
   "execution_count": null,
   "metadata": {},
   "outputs": [],
   "source": []
  },
  {
   "cell_type": "code",
   "execution_count": null,
   "metadata": {},
   "outputs": [],
   "source": []
  },
  {
   "cell_type": "code",
   "execution_count": null,
   "metadata": {},
   "outputs": [],
   "source": []
  }
 ],
 "metadata": {
  "kernelspec": {
   "display_name": "Python 3",
   "language": "python",
   "name": "python3"
  },
  "language_info": {
   "codemirror_mode": {
    "name": "ipython",
    "version": 3
   },
   "file_extension": ".py",
   "mimetype": "text/x-python",
   "name": "python",
   "nbconvert_exporter": "python",
   "pygments_lexer": "ipython3",
   "version": "3.8.2"
  }
 },
 "nbformat": 4,
 "nbformat_minor": 4
}
